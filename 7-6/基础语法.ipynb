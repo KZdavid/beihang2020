{
 "cells": [
  {
   "cell_type": "markdown",
   "metadata": {},
   "source": [
    "## Python基础语法\n",
    "&emsp;&emsp;Python是目前最流行的编程语言之一。其因为强大的功能、友好的社区环境而受到程序员、数据科学家等多种用户群体的欢迎。目前流行的深度学习框架，如Keras，Pytorch以及TensorFlow都提供了面向Python的API。因此，要动手学习深度神经网络，Python是必不可少的工具。  \n",
    "&emsp;&emsp;话不多说，我们接下来就开始介绍有关Python的基础知识。\n",
    "  \n",
    "### 变量，数据类型和运算符\n",
    "&emsp;&emsp;Python提供了广泛的数据类型和强大的基础计算功能，为使用这门语言进行科学计算的数据科学家和学习者们免去了不少琐碎的烦恼。本节中我们先介绍Python的变量，数据类型和运算符。  \n",
    "#### 变量和数据类型\n",
    "&emsp;&emsp;与其他大部分高级编程语言不同，Python在声明变量的时候不需要显式地指出变量的数据类型。例如"
   ]
  },
  {
   "cell_type": "code",
   "execution_count": 6,
   "metadata": {},
   "outputs": [],
   "source": [
    "s = 'BUAA' #string\n",
    "a = 1 #int\n",
    "lecturer = ['YYX', 'MYY'] #list"
   ]
  },
  {
   "cell_type": "markdown",
   "metadata": {},
   "source": [
    "&emsp;&emsp;从上到下，我们分别定义了一个字符串s，一个整型变量a，一个叫做 lecturer 的list。Python会根据对变量的赋值，自动判断变量的类型。  \n",
    "&emsp;&emsp;Python提供的基础数据类型有：整型、浮点型、布尔型、字符串、列表、元组、集合、字典。"
   ]
  },
  {
   "cell_type": "code",
   "execution_count": 7,
   "metadata": {
    "tags": []
   },
   "outputs": [
    {
     "name": "stdout",
     "output_type": "stream",
     "text": [
      "(2.0, True)\n",
      "{1, 2.0, 'BUAA'}\n",
      "6\n",
      "<class 'str'>\n",
      "<class 'int'>\n"
     ]
    }
   ],
   "source": [
    "f = 2.0 #float\n",
    "c = 1 + 2j #complex\n",
    "b = True #boolean\n",
    "t = (f, b) #tuple\n",
    "st = {s, a, f} #set\n",
    "d = {'int':a, 'float':f} #dictionary\n",
    "\n",
    "print(t)\n",
    "print(st)\n",
    "\n",
    "x = input()\n",
    "print(type(x))\n",
    "print(type(eval(x)))"
   ]
  },
  {
   "cell_type": "markdown",
   "metadata": {},
   "source": [
    "需要注意的是，在Python中定义变量时：  \n",
    "1. 只能在变量名称中使用常规字母、数字和下划线。不能包含空格，并且需要以字母或下划线开头  \n",
    "2. 不能使用保留字或内置标识符，它们在 Python 中具有重要含义;  \n",
    "3. 在 Python 中，变量名称的命名方式是全部使用小写字母，并用下划线区分单词。  \n",
    "另外，Python还提供了一些常见的强制类型转换方法，如"
   ]
  },
  {
   "cell_type": "code",
   "execution_count": 8,
   "metadata": {
    "scrolled": true,
    "tags": []
   },
   "outputs": [
    {
     "name": "stdout",
     "output_type": "stream",
     "text": [
      "4 2.0\n",
      "<class 'int'>\n"
     ]
    }
   ],
   "source": [
    "a = int(4.7)\n",
    "b = float(2)\n",
    "c = int('123')\n",
    "print(a, b)\n",
    "print(type(c))"
   ]
  },
  {
   "cell_type": "markdown",
   "metadata": {},
   "source": [
    "### 运算符\n",
    "&emsp;&emsp;运算符并不仅仅只是用于计算的符号，其一共包括算术、赋值、比较、逻辑、成员、恒等运算符等类别。  \n",
    "&emsp;&emsp;算术运算符中，除了简单的四则运算外，Python还提供了一些方便的符号，如取模%，取幂**，整除//等，例子如下"
   ]
  },
  {
   "cell_type": "code",
   "execution_count": 9,
   "metadata": {
    "tags": []
   },
   "outputs": [
    {
     "name": "stdout",
     "output_type": "stream",
     "text": [
      "a = 4\n",
      "b = 12\n",
      "16.0\n",
      "-8.0\n",
      "48.0\n",
      "0.3333333333333333\n",
      "4.0\n",
      "16777216.0\n",
      "0.0\n"
     ]
    }
   ],
   "source": [
    "a = float(input('a = '))\n",
    "b = float(input('b = '))\n",
    "print(a + b)\n",
    "print(a - b)\n",
    "print(a * b)\n",
    "print(a / b)\n",
    "print(a % b)\n",
    "print(a ** b)\n",
    "print(a // b)"
   ]
  },
  {
   "cell_type": "markdown",
   "metadata": {},
   "source": [
    "&emsp;&emsp;算术运算符的优先级与一般的数学规则无异。但是需要稍微注意取模和取余的区别。计算a%b时，当a和b符号一致时，求模运算和求余运算所得的商的值一致，因此结果一致。当符号不一致时，结果不一样。求模运算结果的符号和b一致，求余运算结果的符号和a一致。  \n",
    "&emsp;&emsp;赋值运算符即是前两个例子中的等号。另外，Python还支持多个变量打包进行赋值。"
   ]
  },
  {
   "cell_type": "code",
   "execution_count": 10,
   "metadata": {},
   "outputs": [
    {
     "name": "stdout",
     "output_type": "stream",
     "text": [
      "-1\n"
     ]
    }
   ],
   "source": [
    "a = 3\n",
    "b = -2\n",
    "print(a % b)"
   ]
  },
  {
   "cell_type": "code",
   "execution_count": 11,
   "metadata": {
    "tags": []
   },
   "outputs": [
    {
     "name": "stdout",
     "output_type": "stream",
     "text": [
      "3 4 5\n"
     ]
    }
   ],
   "source": [
    "x, y, z = 3, 4, 5\n",
    "print(x, y, z)"
   ]
  },
  {
   "cell_type": "markdown",
   "metadata": {},
   "source": [
    "还有一些常用的赋值运算符，如+=, *=, -=, /=等，分别表示符号左边的变量对右边的值进行对应的计算后再赋值给自己，例如"
   ]
  },
  {
   "cell_type": "code",
   "execution_count": 12,
   "metadata": {
    "scrolled": true,
    "tags": []
   },
   "outputs": [
    {
     "name": "stdout",
     "output_type": "stream",
     "text": [
      "6 1 6\n"
     ]
    }
   ],
   "source": [
    "x *= 2\n",
    "y -= 3\n",
    "z += 1\n",
    "print(x, y, z)"
   ]
  },
  {
   "cell_type": "markdown",
   "metadata": {},
   "source": [
    "布尔数据类型存储的是值True或False，通常分别表示为1或0。一般来说，有6个比较运算符会获得布尔值：<, >, <=, >=, ==, !=，以及3个逻辑运算符也会返回布尔值：and, or, not，以下是一些例子"
   ]
  },
  {
   "cell_type": "code",
   "execution_count": 13,
   "metadata": {
    "scrolled": false,
    "tags": []
   },
   "outputs": [
    {
     "name": "stdout",
     "output_type": "stream",
     "text": [
      "False True False True False True\n",
      "False True True\n"
     ]
    }
   ],
   "source": [
    "print(5<3, 5>3, 5<=3, 5>=3, 3==5, 3!=5)\n",
    "print((5<3 and 5==5), (5<3 or 5==5), (not 5<3))"
   ]
  },
  {
   "cell_type": "markdown",
   "metadata": {},
   "source": [
    "### 例题1\n",
    "给定一个年份，计算其是否是闰年。\n",
    "注：我们知道，闰年分为普通闰年和世纪闰年两类。普通闰年的标准是年份可以整除4却不能整除100，世纪闰年的标准是年份必须整除400。"
   ]
  },
  {
   "cell_type": "code",
   "execution_count": 14,
   "metadata": {
    "scrolled": true
   },
   "outputs": [
    {
     "name": "stdout",
     "output_type": "stream",
     "text": [
      "51\n",
      "No\n"
     ]
    }
   ],
   "source": [
    "year = int(input())\n",
    "if (year%4 == 0 and year%100 !=0) or (year%400 == 0):\n",
    "    print(\"Yes, it's a leap year!\")\n",
    "else:\n",
    "    print('No')"
   ]
  },
  {
   "cell_type": "markdown",
   "metadata": {},
   "source": [
    "### 例题2\n",
    "给定圆的半径，计算它的周长和面积（周长的结果保留3位小数）。\n",
    "注：圆周率用到math库。"
   ]
  },
  {
   "cell_type": "code",
   "execution_count": 15,
   "metadata": {},
   "outputs": [
    {
     "name": "stdout",
     "output_type": "stream",
     "text": [
      "12\n",
      "75.398\n",
      "452.3893421169302\n"
     ]
    }
   ],
   "source": [
    "import math #先import一个库\n",
    "radius = float(input())\n",
    "#计算周长\n",
    "c = 2 * math.pi * radius\n",
    "#计算面积\n",
    "s = math.pi * radius * radius\n",
    "print('%.3f'% c)\n",
    "print(s)"
   ]
  },
  {
   "cell_type": "markdown",
   "metadata": {},
   "source": [
    "### 字符串\n",
    "在Python 中，字符串的变量类型显示为 str。可以使用双引号 \" 或单引号 ' 定义字符串。"
   ]
  },
  {
   "cell_type": "code",
   "execution_count": 16,
   "metadata": {
    "tags": []
   },
   "outputs": [
    {
     "name": "stdout",
     "output_type": "stream",
     "text": [
      "this is a string!\n",
      "this is also a string!!!\n"
     ]
    }
   ],
   "source": [
    " my_string = 'this is a string!'\n",
    " my_string2 = \"this is also a string!!!\"\n",
    " print(my_string)\n",
    " print(my_string2)"
   ]
  },
  {
   "cell_type": "markdown",
   "metadata": {},
   "source": [
    "当字符串中含有引号或其他特殊符号的时候，可以用\\引入转义字符进行控制。"
   ]
  },
  {
   "cell_type": "code",
   "execution_count": 17,
   "metadata": {
    "scrolled": true,
    "tags": []
   },
   "outputs": [
    {
     "name": "stdout",
     "output_type": "stream",
     "text": [
      "Simon's skateboard is in the garage.\n"
     ]
    }
   ],
   "source": [
    "this_string = 'Simon\\'s skateboard is in the garage.'\n",
    "print(this_string)"
   ]
  },
  {
   "cell_type": "markdown",
   "metadata": {},
   "source": [
    "Python还提供了一些字符串的运算操作，如+和*"
   ]
  },
  {
   "cell_type": "code",
   "execution_count": 18,
   "metadata": {
    "tags": []
   },
   "outputs": [
    {
     "name": "stdout",
     "output_type": "stream",
     "text": [
      "HelloThere\n",
      "Hello There\n",
      "Hello There\n",
      "Hello,There!HelloHelloHelloHelloHello\n",
      "33333\n"
     ]
    }
   ],
   "source": [
    "first_word = 'Hello'\n",
    "second_word = 'There'\n",
    "third_word = '3'\n",
    "print(first_word + second_word)\n",
    "print(first_word, second_word)\n",
    "print(first_word + ' ' + second_word)\n",
    "print(first_word, second_word, sep = ',', end ='!') \n",
    "print(first_word * 5)\n",
    "print(third_word * 5)"
   ]
  },
  {
   "cell_type": "markdown",
   "metadata": {},
   "source": [
    "为了让用户更加方便地处理字符串，Python还提供了一些内建的字符串方法。例如，lower()是一个字符串方法，对于一个叫 \"sample string\" 的字符串，它可以这样使用：sample_string.lower()，同样地有upper()将其大写。"
   ]
  },
  {
   "cell_type": "code",
   "execution_count": 19,
   "metadata": {
    "tags": []
   },
   "outputs": [
    {
     "name": "stdout",
     "output_type": "stream",
     "text": [
      "hello\n"
     ]
    }
   ],
   "source": [
    "print(first_word.lower())"
   ]
  },
  {
   "cell_type": "markdown",
   "metadata": {},
   "source": [
    "除此以外还有一些判断字符串长度、是否大小写、开头和结尾的函数："
   ]
  },
  {
   "cell_type": "code",
   "execution_count": 20,
   "metadata": {},
   "outputs": [
    {
     "name": "stdout",
     "output_type": "stream",
     "text": [
      "11\n",
      "Hello There\n",
      "False\n",
      "True\n",
      "False\n",
      "True\n"
     ]
    }
   ],
   "source": [
    "string = 'hello there'\n",
    "print(len(string))  #计算字符串长度\n",
    "print(string.title())  #将字符串单词开头大写\n",
    "print(string.isupper())  #判断字符串是否全部大写\n",
    "print(string.islower())  #判断字符串是否全部小写\n",
    "print(string.startswith('H'))  #判断字符串是否以H开头\n",
    "print(string.endswith('e'))  #判断字符串是否以e结尾"
   ]
  },
  {
   "cell_type": "markdown",
   "metadata": {},
   "source": [
    "### 例题3\n",
    "我们有一本英文书，它的名字是tReaSURE iSlaNd。请把它按标准的英文书名格式输出，方便大家辨别。"
   ]
  },
  {
   "cell_type": "code",
   "execution_count": 21,
   "metadata": {},
   "outputs": [
    {
     "name": "stdout",
     "output_type": "stream",
     "text": [
      "Treasure Island\n"
     ]
    }
   ],
   "source": [
    "s = 'tReaSURE iSlaNd'\n",
    "s.upper()\n",
    "print(s.title())"
   ]
  },
  {
   "cell_type": "markdown",
   "metadata": {},
   "source": [
    "### 索引和切片\n",
    "与之前见到的其他数据类型不同，我们还可以使用字符串索引来访问字符串的某一段。例如"
   ]
  },
  {
   "cell_type": "code",
   "execution_count": 22,
   "metadata": {
    "scrolled": true,
    "tags": []
   },
   "outputs": [
    {
     "name": "stdout",
     "output_type": "stream",
     "text": [
      "H\n"
     ]
    }
   ],
   "source": [
    "# first_word = 'Hello'\n",
    "print(first_word[0])"
   ]
  },
  {
   "cell_type": "markdown",
   "metadata": {},
   "source": [
    "需要注意的是，Python 索引以 0 开始。与MATLAB类似地，Python对可以用下标访问的数据类型，也提供了切片功能。切片的基本格式为 st:ed:step,并且支持参数缺省，st默认为0 ，ed默认为最后一位，步长step默认为1。例如"
   ]
  },
  {
   "cell_type": "code",
   "execution_count": 23,
   "metadata": {
    "tags": []
   },
   "outputs": [
    {
     "name": "stdout",
     "output_type": "stream",
     "text": [
      "12345\n",
      "223344\n",
      "11223344\n"
     ]
    }
   ],
   "source": [
    "word = '1122334455667788'\n",
    "print(word[0:10:2])\n",
    "print(word[2:8])\n",
    "print(word[:8])"
   ]
  },
  {
   "cell_type": "markdown",
   "metadata": {},
   "source": [
    "### 列表\n",
    "列表是一种非常常用的数据类型，可以简单地将其视为一个线性表。列表可以包含我们到目前为止所学的任何数据类型并且可以混合到一起。例如"
   ]
  },
  {
   "cell_type": "code",
   "execution_count": 24,
   "metadata": {
    "tags": []
   },
   "outputs": [
    {
     "name": "stdout",
     "output_type": "stream",
     "text": [
      "[1, 3.4, 'a string', True]\n"
     ]
    }
   ],
   "source": [
    "lst_of_random_things = [1, 3.4, 'a string', True]\n",
    "print(lst_of_random_things)"
   ]
  },
  {
   "cell_type": "markdown",
   "metadata": {},
   "source": [
    "与字符串相同地，我们可以利用下标索引来访问某一个具体的值。下面的例子中，-1表示倒数第一个元素，同样地我们也可以用-2，-3等倒序地访问元素。"
   ]
  },
  {
   "cell_type": "code",
   "execution_count": 25,
   "metadata": {
    "tags": []
   },
   "outputs": [
    {
     "name": "stdout",
     "output_type": "stream",
     "text": [
      "1\n",
      "True\n"
     ]
    }
   ],
   "source": [
    "print(lst_of_random_things[0])\n",
    "print(lst_of_random_things[-1])"
   ]
  },
  {
   "cell_type": "markdown",
   "metadata": {},
   "source": [
    "同样地，我们也可以对列表使用切片操作，从列表中提取多个值。在使用切片功能时，务必注意，起始索引包含在内，终止索引排除在外，切片范围始终是一个左闭右开的区间。另外，我们还可以使用 in 和 not in 返回一个布尔值，表示某个元素是否存在于列表中，或者某个字符串是否为另一个字符串的子字符串。"
   ]
  },
  {
   "cell_type": "code",
   "execution_count": 26,
   "metadata": {
    "tags": []
   },
   "outputs": [
    {
     "name": "stdout",
     "output_type": "stream",
     "text": [
      "True\n",
      "False\n"
     ]
    }
   ],
   "source": [
    "print('this' in 'this is a string')\n",
    "print('isa' in 'this is a string')"
   ]
  },
  {
   "cell_type": "markdown",
   "metadata": {},
   "source": [
    "另外值得注意的一点是，列表是可变的对象。可变性是指对象创建完毕后，我们是否可以更改该对象。如果对象（例如列表）可以更改，则是可变的。但是，如果无法更改对象以创建全新的对象（例如字符串），则该对象是不可变的。"
   ]
  },
  {
   "cell_type": "code",
   "execution_count": 27,
   "metadata": {
    "tags": []
   },
   "outputs": [
    {
     "name": "stdout",
     "output_type": "stream",
     "text": [
      "['one', 2, 3, 4, 5]\n"
     ]
    },
    {
     "ename": "TypeError",
     "evalue": "'str' object does not support item assignment",
     "output_type": "error",
     "traceback": [
      "\u001b[1;31m---------------------------------------------------------------------------\u001b[0m",
      "\u001b[1;31mTypeError\u001b[0m                                 Traceback (most recent call last)",
      "\u001b[1;32m<ipython-input-27-21f9a1ddc58d>\u001b[0m in \u001b[0;36m<module>\u001b[1;34m\u001b[0m\n\u001b[0;32m      4\u001b[0m \u001b[1;33m\u001b[0m\u001b[0m\n\u001b[0;32m      5\u001b[0m \u001b[0mgreeting\u001b[0m \u001b[1;33m=\u001b[0m \u001b[1;34m\"Hello there\"\u001b[0m\u001b[1;33m\u001b[0m\u001b[1;33m\u001b[0m\u001b[0m\n\u001b[1;32m----> 6\u001b[1;33m \u001b[0mgreeting\u001b[0m\u001b[1;33m[\u001b[0m\u001b[1;36m0\u001b[0m\u001b[1;33m]\u001b[0m \u001b[1;33m=\u001b[0m \u001b[1;34m'M'\u001b[0m\u001b[1;33m\u001b[0m\u001b[1;33m\u001b[0m\u001b[0m\n\u001b[0m",
      "\u001b[1;31mTypeError\u001b[0m: 'str' object does not support item assignment"
     ]
    }
   ],
   "source": [
    "my_lst = [1, 2, 3, 4, 5]\n",
    "my_lst[0] = 'one'\n",
    "print(my_lst)\n",
    "\n",
    "greeting = \"Hello there\"\n",
    "greeting[0] = 'M'"
   ]
  },
  {
   "cell_type": "markdown",
   "metadata": {},
   "source": [
    "这是因为，字符串是不可变的。意味着如果要更改该字符串，你需要创建一个全新的字符串。  \n",
    "Python还提供了一些方便实用的列表函数，如len()， max(), min(), sorted()等。"
   ]
  },
  {
   "cell_type": "code",
   "execution_count": null,
   "metadata": {
    "tags": []
   },
   "outputs": [],
   "source": [
    "my_lst = [1, 5, 2, 3, 4]\n",
    "print(len(my_lst))\n",
    "print(max(my_lst))\n",
    "print(min(my_lst))\n",
    "print(sorted(my_lst))\n",
    "\n",
    "my_lst.append(5)\n",
    "print(my_lst)\n",
    "my_lst.pop()\n",
    "print(my_lst)\n",
    "print(my_lst.pop(1))\n",
    "my_lst.remove(1)\n",
    "print(my_lst)"
   ]
  },
  {
   "cell_type": "markdown",
   "metadata": {},
   "source": [
    "### 元组\n",
    "元组是另一个实用容器。它是一种不可变有序元素数据类型。通常用来存储相关的信息。元组和列表相似，它们都存储一个有序的对象集合，并且可以通过索引访问这些对象。但是与列表不同的是，元组不可变，你无法向元组中添加项目或从中删除项目，或者直接对元组排序。  \n",
    "元组还可以用来以紧凑的方式为多个变量赋值。在定义元组时，小括号是可选的，如果小括号并没有对解释代码有影响，程序员经常会忽略小括号。  \n",
    "在第四行，我们根据元组 dimensions 的内容为三个变量赋了值。这叫做元组解包。你可以通过元组解包将元组中的信息赋值给多个变量，而不用逐个访问这些信息，并创建多个赋值语句。"
   ]
  },
  {
   "cell_type": "code",
   "execution_count": null,
   "metadata": {
    "scrolled": false,
    "tags": []
   },
   "outputs": [],
   "source": [
    "length, width, height = 52, 40, 100\n",
    "# dimensions = (52, 40, 400)\n",
    "# dimensions = 52, 40, 100\n",
    "print(\"The dimensions are {} x {} x {}\".format(length, width, height))"
   ]
  },
  {
   "cell_type": "markdown",
   "metadata": {},
   "source": [
    "### 集合\n",
    "集合是一个包含唯一元素的可变无序集合数据类型。集合的一个用途是快速删除列表中的重复项。"
   ]
  },
  {
   "cell_type": "code",
   "execution_count": null,
   "metadata": {
    "tags": []
   },
   "outputs": [],
   "source": [
    "numbers = [1, 2, 6, 3, 1, 1, 6]\n",
    "unique_nums = set(numbers)\n",
    "print(unique_nums)"
   ]
  },
  {
   "cell_type": "markdown",
   "metadata": {},
   "source": [
    "集合和列表一样支持 in 运算符。你可以使用 add 方法将元素添加到集合中，并使用 pop 方法删除元素。但是，当你从集合中拿出元素时，会随机删除一个元素。注意和列表不同，集合是无序的，因此没有“最后一个元素”。"
   ]
  },
  {
   "cell_type": "code",
   "execution_count": null,
   "metadata": {
    "tags": []
   },
   "outputs": [],
   "source": [
    "fruit = {\"apple\", \"banana\", \"orange\", \"grapefruit\"}  # define a set\n",
    "\n",
    "print(\"watermelon\" in fruit)  # check for element\n",
    "\n",
    "fruit.add(\"watermelon\")  # add an element\n",
    "print(fruit)\n",
    "\n",
    "print(fruit.pop())  # remove a random element\n",
    "print(fruit)"
   ]
  },
  {
   "cell_type": "markdown",
   "metadata": {},
   "source": [
    "你可以对集合执行的其他操作包括可以对数学集合执行的操作。可以对集合轻松地执行 union、intersection 和 difference 等方法，并且与其他容器相比，速度快了很多。"
   ]
  },
  {
   "cell_type": "markdown",
   "metadata": {},
   "source": [
    "### 字典和恒等运算符\n",
    "字典是可变数据类型，其中存储的是唯一键到值的映射。下面是存储元素和相应原子序数的字典。字典的键必须是任何不可变类型，例如整数或元组，而不仅仅是字符串。甚至每个键都不一定要是相同的类型！我们可以使用方括号并在括号里放入键，查询字典中的值或向字典中插入新值。"
   ]
  },
  {
   "cell_type": "code",
   "execution_count": null,
   "metadata": {
    "tags": []
   },
   "outputs": [],
   "source": [
    "elements = {\"hydrogen\": 1, \"helium\": \"2\", \"carbon\": 6}\n",
    "print(elements[\"helium\"])\n",
    "elements[\"lithium\"] = 3\n",
    "print(elements)"
   ]
  },
  {
   "cell_type": "markdown",
   "metadata": {},
   "source": [
    "我们可以像检查某个值是否在列表或集合中一样，使用关键字 in 检查值是否在字典中。字典有一个也很有用的相关方法，叫做 get。get 会在字典中查询值，但是和方括号不同，如果没有找到键，get 会返回 None（或者你所选的默认值）。"
   ]
  },
  {
   "cell_type": "code",
   "execution_count": null,
   "metadata": {
    "tags": []
   },
   "outputs": [],
   "source": [
    "print(\"carbon\" in elements)\n",
    "print(elements.get(\"carbon\"))\n",
    "print(elements.get(\"dilithium\"))\n",
    "print(elements[\"dilithium\"])"
   ]
  },
  {
   "cell_type": "markdown",
   "metadata": {},
   "source": [
    "如果你预计查询有时候会失败，get 可能比普通的方括号查询更合适，因为错误可能会使程序崩溃。因此，我们可以使用运算符 is 检查某个键是否返回了 None。或者使用 is not 检查是否没有返回 None。"
   ]
  },
  {
   "cell_type": "code",
   "execution_count": null,
   "metadata": {
    "tags": []
   },
   "outputs": [],
   "source": [
    "n = elements.get(\"dilithium\")\n",
    "print(n is None)\n",
    "print(n is not None)"
   ]
  },
  {
   "cell_type": "markdown",
   "metadata": {},
   "source": [
    "### 复合数据结构\n",
    "我们可以在其他容器中包含容器，以创建复合数据结构。例如，下面的字典将键映射到也是字典的值！"
   ]
  },
  {
   "cell_type": "code",
   "execution_count": null,
   "metadata": {
    "tags": []
   },
   "outputs": [],
   "source": [
    "elements = {\"hydrogen\": {\"number\": 1,\n",
    "                         \"weight\": 1.00794,\n",
    "                         \"symbol\": \"H\"},\n",
    "              \"helium\": {\"number\": 2,\n",
    "                         \"weight\": 4.002602,\n",
    "                         \"symbol\": \"He\"}}\n",
    "helium = elements[\"helium\"]  # get the helium dictionary\n",
    "hydrogen_weight = elements[\"hydrogen\"][\"weight\"]  # get hydrogen's weight\n",
    "\n",
    "print(helium)\n",
    "print(hydrogen_weight)"
   ]
  },
  {
   "attachments": {
    "control-flow-2.jpg": {
     "image/jpeg": "[encoded data removed]"
    },
    "flow.jpg": {
     "image/jpeg": "[encoded data removed]"
    }
   },
   "cell_type": "markdown",
   "metadata": {},
   "source": [
    "## 控制流\n",
    "编程语言中的控制流(Control flow)语句用于控制各操作执行的顺序。一段没有控制流的程序的操作顺序应当是这样的： 揉面。  \n",
    "![flow.jpg](attachment:flow.jpg) \n",
    "但是实际生活中，顺序操作并不总是能够满足我们的需求，我们可能需要对流程中的一些步骤加入控制。\n",
    "举个例子，当我们在揉面团的时候，我们首先加入面粉，再倒入一点点水，之后我们还要 判断 目前的加入的水量是否合适，如果过干，需要再加入一点点水，循环 这个步骤，直到我们认为面粉和水的配比合适为止。  \n",
    "![control-flow-2.jpg](attachment:control-flow-2.jpg)\n",
    "上面的这个流程中就包含了 判断 和 循环 两种控制流处理。"
   ]
  },
  {
   "cell_type": "markdown",
   "metadata": {},
   "source": [
    "### if语句\n",
    "if 语句是是一种条件语句，根据条件为 true 还是 false 运行或执行相关代码。下面是一个简单的示例："
   ]
  },
  {
   "cell_type": "code",
   "execution_count": null,
   "metadata": {},
   "outputs": [],
   "source": [
    "# 根据手机话费余额判断是否充值\n",
    "# 如果需要充值应该何如操作？\n",
    "\n",
    "if phone_balance < 5:\n",
    "    phone_balance += 10\n",
    "    bank_balance -= 10"
   ]
  },
  {
   "cell_type": "markdown",
   "metadata": {},
   "source": [
    "我们来详细讲解下每部分。  \n",
    "1. if 语句以关键字 if 开始，然后是要检查的条件，在此例中是 phone_balance < 5，接着是英文冒号。条件用布尔表达式指定，结果为 True 或 False。  \n",
    "2. 这行之后是一个条件为 true 时将执行的缩进代码块。在此例中，仅在 phone_balance 小于 5 时才执行使 phone_balance 递增和使 bank_balance 递减的行。如果不小于 5，这个 if 块中的代码将被跳过。\n",
    "\n",
    "除了 if 条件之外，if 语句经常还会使用另外两个可选条件。例如："
   ]
  },
  {
   "cell_type": "code",
   "execution_count": null,
   "metadata": {},
   "outputs": [],
   "source": [
    "# 园丁根据不同的季节来判断该做什么\n",
    "\n",
    "if season == 'spring':\n",
    "    print('plant the garden!')\n",
    "elif season == 'summer':\n",
    "    print('water the garden!')\n",
    "elif season == 'fall':\n",
    "    print('harvest the garden!')\n",
    "elif season == 'winter':\n",
    "    print('stay indoors!')\n",
    "else:\n",
    "    print('unrecognized season')"
   ]
  },
  {
   "cell_type": "markdown",
   "metadata": {},
   "source": [
    "1. if：if 语句必须始终以 if 条件开始，其中包含第一个要检查的条件。如果该条件为 True，Python 将运行这个 if 块中的缩进代码，然后跳到 if 语句之后的剩余代码。  \n",
    "2. elif：elif 条件用来检查其他条件（前提是 if 语句中之前的条件结果为 False）。可以从示例中看出，可以使用多个 elif 块处理不同的情形。  \n",
    "3. else：最后是 else 条件，它必须位于 if 语句的末尾。该条件语句不需要条件。如果 if 语句中所有前面的语句结果都为 False 时，将运行 else 块中的代码。\n"
   ]
  },
  {
   "cell_type": "markdown",
   "metadata": {},
   "source": [
    "### 例题4\n",
    "中午了，要吃饭了。但是宿舍里的大家都不想出门，不如来掷骰子决定谁去买饭！掷到4以外的双数的人去买饭。"
   ]
  },
  {
   "cell_type": "code",
   "execution_count": null,
   "metadata": {},
   "outputs": [],
   "source": [
    "from random import randint\n",
    "result = randint(1, 6)\n",
    "if result == 4:\n",
    "    print('You\\'re lucky!')\n",
    "elif result % 2 == 0:\n",
    "    print('Get food!')\n",
    "else:\n",
    "    print('You\\'re lucky!')"
   ]
  },
  {
   "cell_type": "markdown",
   "metadata": {},
   "source": [
    "# 缩进\n",
    "\n",
    "一些其他语言使用花括号来表示代码块从哪开始，从哪结束。在 Python 中，我们使用缩进来封装代码块。例如，if 语句使用缩进告诉 Python 哪些代码位于不同条件语句里面，哪些代码位于外面。\n",
    "\n",
    "在 Python 中，缩进通常是四个空格一组。请严格遵守该惯例，因为更改缩进会完全更改代码的含义。"
   ]
  },
  {
   "cell_type": "markdown",
   "metadata": {},
   "source": [
    "### 复杂的布尔表达式\n",
    "If 语句有时候会使用更加复杂的条件布尔表达式。可能包括多个比较运算符、逻辑运算符，甚至包括算式。例如："
   ]
  },
  {
   "cell_type": "code",
   "execution_count": null,
   "metadata": {},
   "outputs": [],
   "source": [
    "if 18.5 <= weight / height**2 < 25:\n",
    "    print(\"BMI is considered 'normal'\")\n",
    "\n",
    "if is_raining and is_sunny:\n",
    "    print(\"Is there a rainbow?\")\n",
    "\n",
    "if (not unsubscribed) and (location == \"USA\" or location == \"CAN\"):\n",
    "    print(\"send email\")"
   ]
  },
  {
   "cell_type": "markdown",
   "metadata": {},
   "source": [
    "对于非常复杂的条件，你可能需要结合使用 and、or 和 not。使用括号可以使运算符组合更清晰。\n",
    "\n",
    "无论是简单还是复杂的条件，if 语句中的条件都必须是结果为 True 或 False 的布尔表达式，该值决定了 if 语句中的缩进代码块是否执行。需要注意的是，逻辑运算符 and、or 和 not 具有特定的含义，与字面英文意思不太一样。确保布尔表达式的结果和你预期的一样。 "
   ]
  },
  {
   "cell_type": "code",
   "execution_count": null,
   "metadata": {},
   "outputs": [],
   "source": [
    "# Bad example\n",
    "if weather == \"snow\" or \"rain\":\n",
    "    print(\"Wear boots!\")\n",
    "    \n",
    "# Good example\n",
    "if weather == \"snow\" or weather == \"rain\":\n",
    "    print(\"Wear boots!\")"
   ]
  },
  {
   "cell_type": "markdown",
   "metadata": {},
   "source": [
    "这段代码在 Python 中是有效的，但不是布尔表达式，虽然读起来像。原因是 or 运算符右侧的表达式 \"rain\" 不是布尔表达式，它是一个字符串。\n",
    "\n",
    "如果我们在if 语句中使用非布尔对象代替布尔表达式，Python 将检查其真假值，判断是否运行缩进代码。默认情况下，Python 中对象的真假值被视为 True，除非在文档中被指定为 False。\n",
    "\n",
    "以下是在 Python 中被视为 False 的大多数内置对象：\n",
    "\n",
    "    定义为 false 的常量：None 和 False\n",
    "    任何数字类型的零：0、0.0、0j、Decimal(0)、Fraction(0, 1)\n",
    "    空序列和空集合：””、()、[]、{}、set()、range(0)\n"
   ]
  },
  {
   "cell_type": "code",
   "execution_count": null,
   "metadata": {
    "scrolled": true,
    "tags": []
   },
   "outputs": [],
   "source": [
    "errors = 3\n",
    "if errors:\n",
    "    print(\"You have {} errors to fix!\".format(errors))\n",
    "else:\n",
    "    print(\"No errors to fix!\")"
   ]
  },
  {
   "cell_type": "markdown",
   "metadata": {},
   "source": [
    "在上述代码中，errors 的真假值为 True，因为它是非零数字，因此输出了错误消息。这是一个编写 if 语句的简练方式。"
   ]
  },
  {
   "cell_type": "markdown",
   "metadata": {},
   "source": [
    "### for循环\n",
    "Python 有两种类型的循环：for 循环和 while 循环。for 循环用来遍历可迭代对象。\n",
    "\n",
    "可迭代对象是每次可以返回其中一个元素的对象，包括字符串、列表和元组等序列类型，以及字典和文件等非序列类型。你还可以使用迭代器和生成器定义可迭代对象，在此不做赘述。\n",
    "\n",
    "我们来了解下 for 循环的各个组成部分。请看下面的示例："
   ]
  },
  {
   "cell_type": "code",
   "execution_count": null,
   "metadata": {
    "tags": []
   },
   "outputs": [],
   "source": [
    "# iterable of cities\n",
    "cities = ['new york city', 'mountain view', 'chicago', 'los angeles']\n",
    "\n",
    "# for loop that iterates over the cities list\n",
    "for city in cities:\n",
    "    print(city.title())"
   ]
  },
  {
   "cell_type": "markdown",
   "metadata": {},
   "source": [
    "For 循环的组成部分\n",
    "\n",
    "    1. 循环的第一行以关键字 for 开始，表示这是一个 for 循环\n",
    "    2. 然后是 iteration_variable in iterable，表示正在被遍历的是可迭代的对象，并且用迭代变量表示当前正在被处理的可迭代对象的元素。在此示例中，迭代变量 city 在第一次迭代时将是“new york city”，在第二次迭代时将是“mountain view”。\n",
    "    3. for 循环头部始终以英文冒号 : 结束。\n",
    "    4. for 循环头部之后的是在此 for 循环的每次迭代时运行的缩进代码块。在此块中，我们可以使用迭代变量访问当前正在被处理的元素的值。\n",
    "\n",
    "你可以随意命名迭代变量。常见模式是为迭代变量和可迭代对象指定相同的名称，但是分别使用单复数形式（例如 'city' 和 'cities）\n",
    "\n",
    "除了从列表中提取信息之外，你还可以使用 for 循环创建和修改列表。你可以在 for 循环的每次迭代时向新列表中添加元素，创建一个列表。如下所示。"
   ]
  },
  {
   "cell_type": "code",
   "execution_count": null,
   "metadata": {
    "tags": []
   },
   "outputs": [],
   "source": [
    "cities = ['new york city', 'mountain view', 'chicago', 'los angeles']\n",
    "capitalized_cities = []\n",
    "\n",
    "for city in cities:\n",
    "    capitalized_cities.append(city.title())\n",
    "print(capitalized_cities)"
   ]
  },
  {
   "cell_type": "markdown",
   "metadata": {},
   "source": [
    "修改列表稍微复杂些，需要使用新的函数：range()。\n",
    "\n",
    "range() 是一个内置函数，用于创建不可变的数字序列。它有三个参数，必须都为整数。\n",
    "\n",
    "range(start=0, stop, step=1)\n",
    "\n",
    "Start是该序列的第一个数字，stop比该序列的最后一个数字大 1，step是该序列中每个数字之间的差。如果未指定的话，start默认为 0，step 默认为 1（即上述 =0和 =1）。\n",
    "\n",
    "    如果你在 range() 的括号里指定一个参数，它将用作 'stop' 的值，另外两个参数使用默认值。\n",
    "    E.g. list(range(4)) 返回 [0, 1, 2, 3]\n",
    "    如果你在 range() 的括号里指定两个参数，它们将用作 'start' 和 'stop' 的值，'step' 将使用默认值。 E.g. list(range(2, 6)) 返回 [2, 3, 4, 5]\n",
    "    或者你可以为三个参数 'start、stop' 和 'step' 均指定一个值。 E.g. list(range(1, 10, 2)) 返回 [1, 3, 5, 7, 9]\n",
    "\n",
    "注意，在这些示例中，我们将 range 封装在列表中。因为 range 本身的输出是一个 range 对象。我们可以通过将其转换为列表或在 for 循环中遍历它，查看 range 对象中的值集合。\n",
    "\n",
    "我们可以使用 range 函数为 cities 列表中的每个值生成索引。这样我们便可以使用 cities\\[index\\] 访问列表中的元素，以便直接修改 cities 列表中的值。"
   ]
  },
  {
   "cell_type": "code",
   "execution_count": null,
   "metadata": {
    "tags": []
   },
   "outputs": [],
   "source": [
    "cities = ['new york city', 'mountain view', 'chicago', 'los angeles']\n",
    "\n",
    "for index in range(len(cities)):\n",
    "    cities[index] = cities[index].title()\n",
    "print(cities)"
   ]
  },
  {
   "cell_type": "markdown",
   "metadata": {},
   "source": [
    "虽然修改列表是 range 函数的一个用途，但是并非只有这一个用途。你将经常使用 range 和 for 循环重复某个操作一定的次数。"
   ]
  },
  {
   "cell_type": "code",
   "execution_count": null,
   "metadata": {
    "scrolled": true,
    "tags": []
   },
   "outputs": [],
   "source": [
    "for i in range(3):\n",
    "    print(\"Hello!\")"
   ]
  },
  {
   "cell_type": "markdown",
   "metadata": {},
   "source": [
    "### 例题5\n",
    "计算1到100内所有奇数之和。"
   ]
  },
  {
   "cell_type": "code",
   "execution_count": null,
   "metadata": {},
   "outputs": [],
   "source": [
    "summary = 0\n",
    "for i in range(1, 100, 2):\n",
    "    summary += i\n",
    "print(summary)"
   ]
  },
  {
   "cell_type": "markdown",
   "metadata": {},
   "source": [
    "### while循环\n",
    "For 循环是一种“有限迭代”，意味着循环主体将运行预定义的次数。这与“无限迭代”循环不同，无限迭代循环是指循环重复未知次数，并在满足某个条件时结束，while 循环正是这种情况。下面是一个 while 循环的示例。"
   ]
  },
  {
   "cell_type": "code",
   "execution_count": null,
   "metadata": {},
   "outputs": [],
   "source": [
    "card_deck = [4, 11, 8, 5, 13, 2, 8, 10]\n",
    "hand = []\n",
    "\n",
    "# adds the last element of the card_deck list to the hand list\n",
    "# until the values in hand add up to 17 or more\n",
    "while sum(hand)  <= 17:\n",
    "    hand.append(card_deck.pop())"
   ]
  },
  {
   "cell_type": "markdown",
   "metadata": {},
   "source": [
    "这个示例包含两个函数。sum 返回列表中的元素之和，pop 是一个列表方法，它会从列表中删除最后一个元素并返回该元素。  \n",
    "While 循环的组成部分\n",
    "\n",
    "    第一行以关键字 while 开始，表示这是一个 while 循环。\n",
    "    然后是要检查的条件。在此示例中是 sum(hand) <= 17。\n",
    "    while 循环头部始终以冒号 : 结束。\n",
    "    该头部之后的缩进部分是 while 循环的主体。如果 while 循环的条件为 true，该循环的主体将被执行。每次运行循环主体时，条件将被重新评估。这个检查条件然后运行循环的流程将重复，直到该表达式变成 false。\n",
    "\n",
    "循环的缩进主体应该至少修改测试表达式中的一个变量。如果测试表达式的值始终不变，就会变成无限循环！"
   ]
  },
  {
   "cell_type": "markdown",
   "metadata": {},
   "source": [
    "### 例题6\n",
    "计算1到100内所有奇数之和。"
   ]
  },
  {
   "cell_type": "code",
   "execution_count": null,
   "metadata": {},
   "outputs": [],
   "source": [
    "summary = 0\n",
    "i = 1\n",
    "while i < 100:\n",
    "    summary += i\n",
    "    i += 2\n",
    "print(summary)"
   ]
  },
  {
   "cell_type": "markdown",
   "metadata": {},
   "source": [
    "### Break、Continue\n",
    "有时候我们需要更精准地控制何时循环应该结束，或者跳过某个迭代。在这些情况下，我们使用关键字 break 和 continue，这两个关键字可以用于 for 和 while 循环。\n",
    "\n",
    "    break 使循环终止\n",
    "    continue 跳过循环的一次迭代\n"
   ]
  },
  {
   "cell_type": "code",
   "execution_count": null,
   "metadata": {
    "tags": []
   },
   "outputs": [],
   "source": [
    "i = 1\n",
    "while i >= 0:\n",
    "    i += 1\n",
    "    if i >= 10:\n",
    "        break\n",
    "    print(i)"
   ]
  },
  {
   "cell_type": "code",
   "execution_count": null,
   "metadata": {},
   "outputs": [],
   "source": [
    "i = 1\n",
    "while i >= 0:\n",
    "    i += 1\n",
    "    if i%2 == 0:\n",
    "        continue\n",
    "    if i>= 10:\n",
    "        break\n",
    "    print(i)"
   ]
  },
  {
   "cell_type": "markdown",
   "metadata": {},
   "source": [
    "### Enumerate\n",
    "enumerate 是一个会返回元组迭代器的内置函数，这些元组包含列表的索引和值。当你需要在循环中获取可迭代对象的每个元素及其索引时，将经常用到该函数。"
   ]
  },
  {
   "cell_type": "code",
   "execution_count": null,
   "metadata": {
    "tags": []
   },
   "outputs": [],
   "source": [
    "letters = ['a', 'b', 'c', 'd', 'e']\n",
    "for i, letter in enumerate(letters):\n",
    "    print(i, letter)"
   ]
  },
  {
   "cell_type": "markdown",
   "metadata": {},
   "source": [
    "### 列表推导式\n",
    "\n",
    "在 Python 中，你可以使用列表推导式快速简练地创建列表。下面是之前的一个示例："
   ]
  },
  {
   "cell_type": "code",
   "execution_count": null,
   "metadata": {},
   "outputs": [],
   "source": [
    "capitalized_cities = []\n",
    "for city in cities:\n",
    "    capitalized_cities.append(city.title())"
   ]
  },
  {
   "cell_type": "markdown",
   "metadata": {},
   "source": [
    "可以简写为："
   ]
  },
  {
   "cell_type": "code",
   "execution_count": null,
   "metadata": {},
   "outputs": [],
   "source": [
    "capitalized_cities = [city.title() for city in cities]"
   ]
  },
  {
   "cell_type": "markdown",
   "metadata": {},
   "source": [
    "借助列表推导式，我们可以使用 for 循环用一步创建一个列表。\n",
    "\n",
    "我们使用方括号 [] 创建列表推导式，括号里包含要对可迭代对象中的每个元素进行评估的条件。上述列表推导式对 cities 中的每个元素 city 调用 city.title()，以为新列表 capitalized_cities 创建每个元素。 \n",
    "\n",
    "我们还可以向列表推导式添加条件语句。在可迭代对象之后，你可以使用关键字 if 检查每次迭代中的条件。"
   ]
  },
  {
   "cell_type": "code",
   "execution_count": null,
   "metadata": {},
   "outputs": [],
   "source": [
    "squares = [x**2 for x in range(9) if x % 2 == 0]"
   ]
  },
  {
   "cell_type": "markdown",
   "metadata": {},
   "source": [
    "上述代码将 squares 设为等于列表 \\[0, 4, 16, 36, 64\\]，因为仅在 x 为偶数时才评估 x 的 2 次幂。如果你要添加 else，则需要将条件语句移到列表推导式的开头，直接放在表达式后面，如下所示。 "
   ]
  },
  {
   "cell_type": "code",
   "execution_count": null,
   "metadata": {},
   "outputs": [],
   "source": [
    "squares = [x**2 if x % 2 == 0 else x + 3 for x in range(9)]"
   ]
  },
  {
   "cell_type": "markdown",
   "metadata": {},
   "source": [
    "列表推导式并没有在其他语言中出现，但是在 python 中很常见。"
   ]
  },
  {
   "cell_type": "markdown",
   "metadata": {},
   "source": [
    "## 函数\n",
    "\n",
    "### 定义函数\n",
    "\n",
    "函数定义示例："
   ]
  },
  {
   "cell_type": "code",
   "execution_count": null,
   "metadata": {},
   "outputs": [],
   "source": [
    "# 计算圆柱体体积\n",
    "def cylinder_volume(height, radius):\n",
    "    pi = 3.14159\n",
    "    return height * pi * radius ** 2"
   ]
  },
  {
   "cell_type": "markdown",
   "metadata": {},
   "source": [
    "定义 cylinder_volume 函数后，我们可以如下所示地调用该函数。 "
   ]
  },
  {
   "cell_type": "code",
   "execution_count": null,
   "metadata": {
    "tags": []
   },
   "outputs": [],
   "source": [
    "print(cylinder_volume(10, 3))"
   ]
  },
  {
   "cell_type": "markdown",
   "metadata": {},
   "source": [
    "函数定义包含几个重要部分。\n",
    "函数头部\n",
    "\n",
    "我们从函数头部开始，即函数定义的第一行。\n",
    "\n",
    "    函数头部始终以关键字 def 开始，表示这是函数定义。\n",
    "    然后是函数名称（在此例中是 cylinder_volume，因为函数名是要一个单词，所以需要用_进行连接），遵循的是和变量一样的命名规范。你可以在本页面下方回顾下命名规范。\n",
    "    名称之后是括号，其中可能包括用英文逗号分隔的参数（在此例中是 height 和 radius）。形参（或实参）是当函数被调用时作为输入传入的值，用在函数主体中。如果函数没有参数，这些括号留空。\n",
    "    头部始终以英文冒号 : 结束。\n",
    "\n",
    "函数主体\n",
    "\n",
    "函数的剩余部分包含在主题中，也就是函数完成操作的部分。\n",
    "\n",
    "    函数主体是在头部行之后缩进的代码。在此例中是定义 π 和返回体积的两行代码。\n",
    "    在此主体中，我们可以引用参数并定义新的变量，这些变量只能在这些缩进代码行内使用。\n",
    "    主体将经常包括 return 语句，用于当函数被调用时返回输出值。return 语句包括关键字 return，然后是经过评估以获得函数输出值的表达式。如果没有 return 语句，函数直接返回 None（例如内置 print() 函数）。\n",
    "\n",
    "函数的命名规范\n",
    "\n",
    "函数名称遵守和变量一样的命名规范。\n",
    "\n",
    "    仅在函数名称中使用普通字母、数字和下划线。不能有空格，需要以字母或下划线开头。\n",
    "    不能使用在 Python 中具有重要作用的保留字或内置标识符。\n",
    "    尝试使用可以帮助读者了解函数作用的描述性名称。\n"
   ]
  },
  {
   "cell_type": "markdown",
   "metadata": {},
   "source": [
    "### 默认参数\n",
    "\n",
    "我们可以向函数中添加默认参数，以便为在函数调用中未指定的参数提供默认值。"
   ]
  },
  {
   "cell_type": "code",
   "execution_count": null,
   "metadata": {},
   "outputs": [],
   "source": [
    "def cylinder_volume(height, radius=5):\n",
    "    pi = 3.14159\n",
    "    return height * pi * radius ** 2"
   ]
  },
  {
   "cell_type": "markdown",
   "metadata": {},
   "source": [
    "在上述示例中，如果在函数调用中忽略了 radius，则将该参数设为 5。如果我们调用 cylinder_volume(10)，该函数将使用 10 作为高度，使用 5 作为半径。但是，如果调用 cylinder_volume(10, 7)，7 将覆盖默认的值 5。\n",
    "\n",
    "此外注意，我们按照位置向参数传递值。可以通过两种方式传递值：按照位置和按照名称。下面两个函数的效果是一样的。 "
   ]
  },
  {
   "cell_type": "code",
   "execution_count": null,
   "metadata": {},
   "outputs": [],
   "source": [
    "cylinder_volume(10, 7)  # pass in arguments by position\n",
    "cylinder_volume(height=10, radius=7)  # pass in arguments by name"
   ]
  },
  {
   "cell_type": "markdown",
   "metadata": {},
   "source": [
    "### 变量作用域\n",
    "\n",
    "变量作用域是指可以在程序的哪个部分引用或使用某个变量。\n",
    "\n",
    "在函数中使用变量时，务必要考虑作用域。如果变量是在函数内创建的，则只能在该函数内使用该变量。你无法从该函数外面访问该变量。"
   ]
  },
  {
   "cell_type": "code",
   "execution_count": null,
   "metadata": {},
   "outputs": [],
   "source": [
    "# This will result in an error\n",
    "def some_function():\n",
    "    word = \"hello\"\n",
    "\n",
    "print(word)"
   ]
  },
  {
   "cell_type": "markdown",
   "metadata": {},
   "source": [
    "这意味着你可以为在不同函数内使用的不同变量使用相同的名称。"
   ]
  },
  {
   "cell_type": "code",
   "execution_count": null,
   "metadata": {},
   "outputs": [],
   "source": [
    "# This works fine\n",
    "def some_function():\n",
    "    word = \"hello\"\n",
    "\n",
    "def another_function():\n",
    "    word = \"goodbye\""
   ]
  },
  {
   "cell_type": "markdown",
   "metadata": {},
   "source": [
    "像这样在函数之外定义的变量依然可以在函数内访问。"
   ]
  },
  {
   "cell_type": "code",
   "execution_count": null,
   "metadata": {
    "tags": []
   },
   "outputs": [],
   "source": [
    "# This works fine\n",
    "word = \"hello\"\n",
    "\n",
    "def some_function():\n",
    "    print(word)\n",
    "\n",
    "some_function()"
   ]
  },
  {
   "cell_type": "markdown",
   "metadata": {},
   "source": [
    "### 关于变量作用域的更多信息\n",
    "\n",
    "在编程时，你经常会发现相似的想法不断出现。你将使用变量进行计数、迭代和累积要返回的值。为了编写容易读懂的代码，你会发现你需要对相似的想法使用相似的名称。一旦你将多段代码放到一起（例如，一个脚本中有多个函数或函数调用），你可能需要为两个不同的概念使用相同的名称。\n",
    "\n",
    "幸运的是，你不需要不断想出新的名称。可以为对象重复使用相同的名称，只要它们位于不同的作用域即可。\n",
    "\n",
    "良好实践：建议将变量定义在所需的最小作用域内。虽然函数_可以_引用在更大的作用域内定义的变量，但是通常不建议这么做，因为如果程序有很多变量，你可能不知道你定义了什么变量。\n"
   ]
  },
  {
   "cell_type": "markdown",
   "metadata": {},
   "source": [
    "### 文档\n",
    "\n",
    "文档使代码更容易理解和使用。函数尤其容易理解，因为它们通常使用文档字符串，简称 docstrings。文档字符串是一种注释，用于解释函数的作用以及使用方式。下面是一个包含文档字符串的人口密度函数。"
   ]
  },
  {
   "cell_type": "code",
   "execution_count": null,
   "metadata": {},
   "outputs": [],
   "source": [
    "def population_density(population, land_area):\n",
    "    \"\"\"Calculate the population density of an area. \"\"\"\n",
    "    return population / land_area"
   ]
  },
  {
   "cell_type": "markdown",
   "metadata": {},
   "source": [
    "文档字符串用三个引号引起来，第一行简要解释了函数的作用。如果你觉得信息已经足够了，可以在文档字符串中只提供这么多的信息；一行文档字符串完全可接受，如上述示例所示。"
   ]
  },
  {
   "cell_type": "code",
   "execution_count": null,
   "metadata": {},
   "outputs": [],
   "source": [
    "def population_density(population, land_area):\n",
    "    \"\"\"Calculate the population density of an area.\n",
    "\n",
    "    INPUT:\n",
    "    population: int. The population of that area\n",
    "    land_area: int or float. This function is unit-agnostic, if you pass in values in terms\n",
    "    of square km or square miles the function will return a density in those units.\n",
    "\n",
    "    OUTPUT: \n",
    "    population_density: population / land_area. The population density of a particular area.\n",
    "    \"\"\"\n",
    "    return population / land_area"
   ]
  },
  {
   "cell_type": "markdown",
   "metadata": {},
   "source": [
    "如果你觉得需要更长的句子来解释函数，可以在一行摘要后面添加更多信息。在上述示例中，可以看出我们对函数的参数进行了解释，描述了每个参数的作用和类型。我们经常还会对函数输出进行说明。\n",
    "\n",
    "文档字符串的每个部分都是可选的。但是，提供文档字符串是一个良好的编程习惯。"
   ]
  },
  {
   "cell_type": "markdown",
   "metadata": {},
   "source": [
    "### Lambda 表达式\n",
    "\n",
    "你可以使用 Lambda 表达式创建匿名函数，即没有名称的函数。lambda 表达式非常适合快速创建在代码中以后不会用到的函数。尤其对高阶函数或将其他函数作为参数的函数来说，非常实用。\n",
    "\n",
    "我们可以使用 lambda 表达式将以下函数"
   ]
  },
  {
   "cell_type": "code",
   "execution_count": null,
   "metadata": {},
   "outputs": [],
   "source": [
    "def multiply(x, y):\n",
    "    return x * y"
   ]
  },
  {
   "cell_type": "markdown",
   "metadata": {},
   "source": [
    "简写为："
   ]
  },
  {
   "cell_type": "code",
   "execution_count": null,
   "metadata": {},
   "outputs": [],
   "source": [
    "double = lambda x, y: x * y"
   ]
  },
  {
   "cell_type": "markdown",
   "metadata": {},
   "source": [
    "Lambda 函数的组成部分\n",
    "\n",
    "    关键字 lambda 表示这是一个 lambda 表达式。\n",
    "    lambda 之后是该匿名函数的一个或多个参数（用英文逗号分隔），然后是一个英文冒号 \":\"和函数相似，lambda 表达式中的参数名称是随意的。\n",
    "    最后一部分是被评估并在该函数中返回的表达式，和你可能会在函数中看到的 return 语句很像。\n",
    "\n",
    "鉴于这种结构，lambda 表达式不太适合复杂的函数，但是非常适合简短的函数。"
   ]
  },
  {
   "cell_type": "code",
   "execution_count": null,
   "metadata": {
    "tags": []
   },
   "outputs": [],
   "source": [
    "students = [('john', 'A', 15), ('jane', 'B', 12), ('dave', 'B', 10)]\n",
    "print(sorted(students, key=lambda s: s[2]))            # 按年龄排序"
   ]
  },
  {
   "cell_type": "markdown",
   "metadata": {},
   "source": [
    "## 常用库简介\n",
    "如同之前提到的，Python可以说有着世界上最友好的社区环境。因此，一些常用的工具包在许多人的努力下已经非常成熟。本节将介绍一些之后常常会用到的库。"
   ]
  },
  {
   "cell_type": "markdown",
   "metadata": {},
   "source": [
    "### turtle\n",
    "turtle库官网手册[https://docs.python.org/2/library/turtle.html]\n",
    "\n",
    "turtle库是Python语言中很流行的一个绘制图像的库。想象一只小海龟，它在画布的正中央，听从你的指令四处走动，走过的路径连成一个美丽的图案。它的使用几乎没有难度，查询相应的函数设置参数即可。\n",
    "\n",
    "接下来我们绘制一朵金黄的太阳花。"
   ]
  },
  {
   "cell_type": "code",
   "execution_count": null,
   "metadata": {},
   "outputs": [],
   "source": [
    "from turtle import *\n",
    "color('red','yellow')\n",
    "begin_fill()\n",
    "while True:\n",
    "    forward(200)\n",
    "    left(170)\n",
    "    if abs(pos())<1:\n",
    "        break\n",
    "end_fill()\n",
    "done()"
   ]
  },
  {
   "cell_type": "markdown",
   "metadata": {},
   "source": [
    "### numpy\n",
    "\n",
    "numpy官方中文文档[https://www.numpy.org.cn/]\n",
    "\n",
    "NumPy是使用Python进行科学计算的基础软件包。它主要包括：\n",
    "\n",
    "    功能强大的N维数组对象。\n",
    "    精密广播功能函数。\n",
    "    集成 C/C+和Fortran 代码的工具。\n",
    "    强大的线性代数、傅立叶变换和随机数功能。 \n",
    "\n",
    "我们将主要用到numpy的Ndarray，广播功能以及线性代数相关的函数。\n"
   ]
  },
  {
   "cell_type": "markdown",
   "metadata": {},
   "source": [
    "在程序中使用numpy提供的方法之前，我们首先要引用这个库。本例中，我们引入numpy并将其指名为np，在以后的调用中，我们只需要指明np而不需要再重复写出numpy"
   ]
  },
  {
   "cell_type": "code",
   "execution_count": null,
   "metadata": {},
   "outputs": [],
   "source": [
    "import numpy as np"
   ]
  },
  {
   "cell_type": "markdown",
   "metadata": {},
   "source": [
    "之后，我们就可以如同MATLAB一样，轻松地创建矩阵和向量，并对他们进行运算。"
   ]
  },
  {
   "cell_type": "code",
   "execution_count": null,
   "metadata": {
    "tags": []
   },
   "outputs": [],
   "source": [
    "I = np.eye(5)\n",
    "print(I)\n",
    "a = 2 * np.ones([5, 1])\n",
    "print(a)\n",
    "print(np.dot(I, a))\n",
    "print(a.transpose())"
   ]
  },
  {
   "cell_type": "markdown",
   "metadata": {},
   "source": [
    "在上面的例子中，我们创建了一个单位矩阵和一个列向量，并对他们做了点乘和转置等操作。可以看到，使用numpy进行数值计算是与使用MATLAB同样方便的一件事情。\n",
    "\n",
    "有关其他的功能和方法，建议在实践中查阅numpy的官方手册和csdn的技术博客等。"
   ]
  },
  {
   "cell_type": "markdown",
   "metadata": {},
   "source": [
    "### pandas\n",
    "\n",
    "Pandas是什么？\n",
    "\n",
    "Pandas是一个强大的分析结构化数据的工具集；它的使用基础是Numpy（提供高性能的矩阵运算）；用于数据挖掘和数据分析，同时也提供数据清洗功能。  \n",
    "\n",
    "利器之一：Series\n",
    "\n",
    "它是一种类似于一维数组的对象，是由一组数据(各种NumPy数据类型)以及一组与之相关的数据标签(即索引)组成。仅由一组数据也可产生简单的Series对象。\n",
    "\n",
    "利器之二：DataFrame\n",
    "\n",
    "DataFrame是Pandas中的一个表格型的数据结构，包含有一组有序的列，每列可以是不同的值类型(数值、字符串、布尔型等)，DataFrame即有行索引也有列索引，可以被看做是由Series组成的字典。"
   ]
  },
  {
   "cell_type": "markdown",
   "metadata": {},
   "source": [
    "机器学习和数据挖掘等算法竞赛中，数据往往是以csv格式提供的，而要快速高效地处理csv文件，离不开pandas提供的实用的方法。"
   ]
  },
  {
   "cell_type": "markdown",
   "metadata": {},
   "source": [
    "同样地，我们也需要先导入pandas这个库。"
   ]
  },
  {
   "cell_type": "code",
   "execution_count": null,
   "metadata": {},
   "outputs": [],
   "source": [
    "import pandas as pd"
   ]
  },
  {
   "cell_type": "markdown",
   "metadata": {},
   "source": [
    "pandas的Series可以简单地理解为带有行索引的一列数据。用值列表生成 Series 时，Pandas 默认自动生成整数索引。"
   ]
  },
  {
   "cell_type": "code",
   "execution_count": null,
   "metadata": {
    "tags": []
   },
   "outputs": [],
   "source": [
    "s = pd.Series([1, 3, 5, np.nan, 6, 8])\n",
    "print(s)"
   ]
  },
  {
   "cell_type": "markdown",
   "metadata": {},
   "source": [
    "而DataFrame，我们可以将其理解成整张表格，不仅带有行索引，也可以带有列索引。"
   ]
  },
  {
   "cell_type": "code",
   "execution_count": null,
   "metadata": {
    "tags": []
   },
   "outputs": [],
   "source": [
    "df2 = pd.DataFrame({'A': 1.,\n",
    "                    'B': pd.Timestamp('20130102'),\n",
    "                    'C': pd.Series(1, index=list(range(4)), dtype='float32'),\n",
    "                    'D': np.array([3] * 4, dtype='int32'),\n",
    "                    'E': pd.Categorical([\"test\", \"train\", \"test\", \"train\"]),\n",
    "                    'F': 'foo'})\n",
    "print(df2) "
   ]
  },
  {
   "cell_type": "markdown",
   "metadata": {},
   "source": [
    "利用read_csv(), 我们可以将csv文件转为DataFrame格式进行储存。再通过values(), drop(), describe()等方法，我们可以很方便地处理表格或浏览表格简要信息。"
   ]
  },
  {
   "cell_type": "code",
   "execution_count": null,
   "metadata": {},
   "outputs": [],
   "source": [
    "df2.describe()"
   ]
  },
  {
   "cell_type": "markdown",
   "metadata": {},
   "source": [
    "有关其他的功能和方法，建议在实践中查阅pandas的官方手册和csdn的技术博客等。"
   ]
  },
  {
   "cell_type": "markdown",
   "metadata": {},
   "source": [
    "### matplotlib\n",
    "Matplotlib 是 Python 的绘图库。 它可与 NumPy 一起使用，提供了一种有效的 MatLab 开源替代方案。"
   ]
  },
  {
   "cell_type": "code",
   "execution_count": null,
   "metadata": {
    "scrolled": true
   },
   "outputs": [],
   "source": [
    "import matplotlib.pyplot as plt\n",
    "\n",
    "x = np.arange(1,11) \n",
    "y =  2  * x +  5 \n",
    "plt.title(\"Matplotlib demo\") \n",
    "plt.xlabel(\"x axis caption\") \n",
    "plt.ylabel(\"y axis caption\") \n",
    "plt.plot(x,y)\n",
    "plt.show()\n"
   ]
  },
  {
   "cell_type": "markdown",
   "metadata": {},
   "source": [
    "以上实例中，np.arange() 函数创建 x 轴上的值。y 轴上的对应值存储在另一个数组对象 y 中。 这些值使用 matplotlib 软件包的 pyplot 子模块的 plot() 函数绘制。\n",
    "\n",
    "图形由 show() 函数显示。\n",
    "\n",
    "作为实线图的替代，可以通过向 plot() 函数添加格式字符串来显示不同样式的线，具体的样式可以参考[https://www.runoob.com/numpy/numpy-matplotlib.html]。"
   ]
  },
  {
   "cell_type": "code",
   "execution_count": null,
   "metadata": {},
   "outputs": [],
   "source": []
  }
 ],
 "metadata": {
  "kernelspec": {
   "display_name": "Python 3",
   "language": "python",
   "name": "python3"
  },
  "language_info": {
   "codemirror_mode": {
    "name": "ipython",
    "version": 3
   },
   "file_extension": ".py",
   "mimetype": "text/x-python",
   "name": "python",
   "nbconvert_exporter": "python",
   "pygments_lexer": "ipython3",
   "version": "3.7.7"
  }
 },
 "nbformat": 4,
 "nbformat_minor": 2
}
